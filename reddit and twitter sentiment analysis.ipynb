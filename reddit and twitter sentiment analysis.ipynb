{
 "cells": [
  {
   "cell_type": "code",
   "execution_count": 74,
   "metadata": {
    "colab": {
     "base_uri": "https://localhost:8080/"
    },
    "id": "W3yvoCvtd7nB",
    "outputId": "0f611d0c-969d-4275-ac46-7fcb19a32aa7"
   },
   "outputs": [],
   "source": [
    "# # Load the Drive helper and mount\n",
    "# from google.colab import drive\n",
    "# drive.mount('/content/drive')"
   ]
  },
  {
   "cell_type": "code",
   "execution_count": 4,
   "metadata": {
    "colab": {
     "base_uri": "https://localhost:8080/"
    },
    "id": "kbZRigmdeS3E",
    "outputId": "576a473c-ed3a-42f2-d6e5-3c3844c25f46"
   },
   "outputs": [
    {
     "name": "stderr",
     "output_type": "stream",
     "text": [
      "[nltk_data] Downloading package punkt to\n",
      "[nltk_data]     C:\\Users\\Omkar\\AppData\\Roaming\\nltk_data...\n",
      "[nltk_data]   Package punkt is already up-to-date!\n",
      "[nltk_data] Downloading package stopwords to\n",
      "[nltk_data]     C:\\Users\\Omkar\\AppData\\Roaming\\nltk_data...\n",
      "[nltk_data]   Package stopwords is already up-to-date!\n",
      "[nltk_data] Downloading package wordnet to\n",
      "[nltk_data]     C:\\Users\\Omkar\\AppData\\Roaming\\nltk_data...\n",
      "[nltk_data]   Package wordnet is already up-to-date!\n"
     ]
    }
   ],
   "source": [
    "#importing libraries\n",
    "\n",
    "import numpy as np\n",
    "import pandas as pd\n",
    "import seaborn as sns\n",
    "import matplotlib.pyplot as plt\n",
    "\n",
    "import nltk\n",
    "from nltk.corpus import stopwords\n",
    "from nltk.stem import PorterStemmer,WordNetLemmatizer\n",
    "from nltk.tokenize import word_tokenize\n",
    "nltk.download('punkt')\n",
    "nltk.download('stopwords')\n",
    "nltk.download('wordnet')\n",
    "\n",
    "import tensorflow as tf\n",
    "from tensorflow.keras.models import Sequential\n",
    "from tensorflow.keras.layers import Dense, Dropout, Embedding, LSTM, SimpleRNN\n",
    "from tensorflow.keras.preprocessing.text import Tokenizer\n",
    "from tensorflow.keras.preprocessing import sequence\n",
    "\n",
    "import warnings\n",
    "warnings.filterwarnings('ignore')"
   ]
  },
  {
   "cell_type": "code",
   "execution_count": 5,
   "metadata": {
    "id": "xLJC7Az2ebqK"
   },
   "outputs": [],
   "source": [
    "df_reddit = pd.read_csv('Reddit_Data.csv')\n",
    "df_twitter = pd.read_csv('Twitter_Data.csv')"
   ]
  },
  {
   "cell_type": "code",
   "execution_count": 6,
   "metadata": {
    "colab": {
     "base_uri": "https://localhost:8080/",
     "height": 206
    },
    "id": "ELW4qzANeqJM",
    "outputId": "aa2d42dc-d0af-4bf4-c212-557fd236dd74"
   },
   "outputs": [
    {
     "data": {
      "text/html": [
       "<div>\n",
       "<style scoped>\n",
       "    .dataframe tbody tr th:only-of-type {\n",
       "        vertical-align: middle;\n",
       "    }\n",
       "\n",
       "    .dataframe tbody tr th {\n",
       "        vertical-align: top;\n",
       "    }\n",
       "\n",
       "    .dataframe thead th {\n",
       "        text-align: right;\n",
       "    }\n",
       "</style>\n",
       "<table border=\"1\" class=\"dataframe\">\n",
       "  <thead>\n",
       "    <tr style=\"text-align: right;\">\n",
       "      <th></th>\n",
       "      <th>clean_text</th>\n",
       "      <th>category</th>\n",
       "    </tr>\n",
       "  </thead>\n",
       "  <tbody>\n",
       "    <tr>\n",
       "      <th>0</th>\n",
       "      <td>when modi promised “minimum government maximum...</td>\n",
       "      <td>-1.0</td>\n",
       "    </tr>\n",
       "    <tr>\n",
       "      <th>1</th>\n",
       "      <td>talk all the nonsense and continue all the dra...</td>\n",
       "      <td>0.0</td>\n",
       "    </tr>\n",
       "    <tr>\n",
       "      <th>2</th>\n",
       "      <td>what did just say vote for modi  welcome bjp t...</td>\n",
       "      <td>1.0</td>\n",
       "    </tr>\n",
       "    <tr>\n",
       "      <th>3</th>\n",
       "      <td>asking his supporters prefix chowkidar their n...</td>\n",
       "      <td>1.0</td>\n",
       "    </tr>\n",
       "    <tr>\n",
       "      <th>4</th>\n",
       "      <td>answer who among these the most powerful world...</td>\n",
       "      <td>1.0</td>\n",
       "    </tr>\n",
       "  </tbody>\n",
       "</table>\n",
       "</div>"
      ],
      "text/plain": [
       "                                          clean_text  category\n",
       "0  when modi promised “minimum government maximum...      -1.0\n",
       "1  talk all the nonsense and continue all the dra...       0.0\n",
       "2  what did just say vote for modi  welcome bjp t...       1.0\n",
       "3  asking his supporters prefix chowkidar their n...       1.0\n",
       "4  answer who among these the most powerful world...       1.0"
      ]
     },
     "execution_count": 6,
     "metadata": {},
     "output_type": "execute_result"
    }
   ],
   "source": [
    "df_twitter.head()"
   ]
  },
  {
   "cell_type": "code",
   "execution_count": 7,
   "metadata": {
    "colab": {
     "base_uri": "https://localhost:8080/",
     "height": 206
    },
    "id": "8xYEFjY6e1Uk",
    "outputId": "d88a8584-5b64-4ad6-938c-6e837a952991"
   },
   "outputs": [
    {
     "data": {
      "text/html": [
       "<div>\n",
       "<style scoped>\n",
       "    .dataframe tbody tr th:only-of-type {\n",
       "        vertical-align: middle;\n",
       "    }\n",
       "\n",
       "    .dataframe tbody tr th {\n",
       "        vertical-align: top;\n",
       "    }\n",
       "\n",
       "    .dataframe thead th {\n",
       "        text-align: right;\n",
       "    }\n",
       "</style>\n",
       "<table border=\"1\" class=\"dataframe\">\n",
       "  <thead>\n",
       "    <tr style=\"text-align: right;\">\n",
       "      <th></th>\n",
       "      <th>clean_comment</th>\n",
       "      <th>category</th>\n",
       "    </tr>\n",
       "  </thead>\n",
       "  <tbody>\n",
       "    <tr>\n",
       "      <th>0</th>\n",
       "      <td>family mormon have never tried explain them t...</td>\n",
       "      <td>1</td>\n",
       "    </tr>\n",
       "    <tr>\n",
       "      <th>1</th>\n",
       "      <td>buddhism has very much lot compatible with chr...</td>\n",
       "      <td>1</td>\n",
       "    </tr>\n",
       "    <tr>\n",
       "      <th>2</th>\n",
       "      <td>seriously don say thing first all they won get...</td>\n",
       "      <td>-1</td>\n",
       "    </tr>\n",
       "    <tr>\n",
       "      <th>3</th>\n",
       "      <td>what you have learned yours and only yours wha...</td>\n",
       "      <td>0</td>\n",
       "    </tr>\n",
       "    <tr>\n",
       "      <th>4</th>\n",
       "      <td>for your own benefit you may want read living ...</td>\n",
       "      <td>1</td>\n",
       "    </tr>\n",
       "  </tbody>\n",
       "</table>\n",
       "</div>"
      ],
      "text/plain": [
       "                                       clean_comment  category\n",
       "0   family mormon have never tried explain them t...         1\n",
       "1  buddhism has very much lot compatible with chr...         1\n",
       "2  seriously don say thing first all they won get...        -1\n",
       "3  what you have learned yours and only yours wha...         0\n",
       "4  for your own benefit you may want read living ...         1"
      ]
     },
     "execution_count": 7,
     "metadata": {},
     "output_type": "execute_result"
    }
   ],
   "source": [
    "df_reddit.head()"
   ]
  },
  {
   "cell_type": "code",
   "execution_count": 8,
   "metadata": {
    "id": "vz-4AKJnfT4y"
   },
   "outputs": [],
   "source": [
    "df_twitter.rename(columns = {'clean_text':'clean_comment'}, inplace = True)"
   ]
  },
  {
   "cell_type": "code",
   "execution_count": 9,
   "metadata": {
    "colab": {
     "base_uri": "https://localhost:8080/"
    },
    "id": "KpzdrWIRfYDa",
    "outputId": "01aa42b5-b73d-4274-c0e9-87133058531b"
   },
   "outputs": [
    {
     "data": {
      "text/plain": [
       "((162980, 2), (37249, 2))"
      ]
     },
     "execution_count": 9,
     "metadata": {},
     "output_type": "execute_result"
    }
   ],
   "source": [
    "df_twitter.shape,  df_reddit.shape"
   ]
  },
  {
   "cell_type": "code",
   "execution_count": 10,
   "metadata": {
    "id": "A64h7CKXfaXS"
   },
   "outputs": [],
   "source": [
    "df = df_reddit.append(df_twitter).reset_index(drop=True)"
   ]
  },
  {
   "cell_type": "code",
   "execution_count": 11,
   "metadata": {
    "colab": {
     "base_uri": "https://localhost:8080/"
    },
    "id": "JA8CkLrLfdph",
    "outputId": "59d6ef63-9197-4678-a579-c5b0feb16b1f"
   },
   "outputs": [
    {
     "data": {
      "text/plain": [
       "(200229, 2)"
      ]
     },
     "execution_count": 11,
     "metadata": {},
     "output_type": "execute_result"
    }
   ],
   "source": [
    "df.shape"
   ]
  },
  {
   "cell_type": "code",
   "execution_count": 12,
   "metadata": {
    "colab": {
     "base_uri": "https://localhost:8080/"
    },
    "id": "D-vyCaoIff5h",
    "outputId": "8c7f1040-4457-48ba-f424-0e55a21b410c"
   },
   "outputs": [
    {
     "name": "stdout",
     "output_type": "stream",
     "text": [
      "<class 'pandas.core.frame.DataFrame'>\n",
      "RangeIndex: 200229 entries, 0 to 200228\n",
      "Data columns (total 2 columns):\n",
      " #   Column         Non-Null Count   Dtype  \n",
      "---  ------         --------------   -----  \n",
      " 0   clean_comment  200125 non-null  object \n",
      " 1   category       200222 non-null  float64\n",
      "dtypes: float64(1), object(1)\n",
      "memory usage: 3.1+ MB\n"
     ]
    }
   ],
   "source": [
    "df.info()"
   ]
  },
  {
   "cell_type": "code",
   "execution_count": 13,
   "metadata": {
    "colab": {
     "base_uri": "https://localhost:8080/"
    },
    "id": "4xl1jJjAfsMK",
    "outputId": "c7654aec-600e-41aa-bddb-07817f1296eb"
   },
   "outputs": [
    {
     "data": {
      "text/plain": [
       "clean_comment    104\n",
       "category           7\n",
       "dtype: int64"
      ]
     },
     "execution_count": 13,
     "metadata": {},
     "output_type": "execute_result"
    }
   ],
   "source": [
    "df.isna().sum()"
   ]
  },
  {
   "cell_type": "code",
   "execution_count": 14,
   "metadata": {
    "id": "9QLAN07Vft0q"
   },
   "outputs": [],
   "source": [
    "df.dropna(inplace=True)"
   ]
  },
  {
   "cell_type": "code",
   "execution_count": 15,
   "metadata": {
    "id": "UZwUOWdofvuC"
   },
   "outputs": [],
   "source": [
    "#Renaming Target Labels to increase the visual meaning while exploring the data\n",
    "def rename(val):\n",
    "    if val == -1:\n",
    "        return \"Negative\"\n",
    "    elif val == 0:\n",
    "        return \"Neutral\"\n",
    "    elif val == 1:\n",
    "        return \"Positive\""
   ]
  },
  {
   "cell_type": "code",
   "execution_count": 16,
   "metadata": {
    "id": "IjY6M5jbfx0R"
   },
   "outputs": [],
   "source": [
    "df['category'] = df['category'].apply(rename)"
   ]
  },
  {
   "cell_type": "code",
   "execution_count": 17,
   "metadata": {
    "colab": {
     "base_uri": "https://localhost:8080/",
     "height": 467
    },
    "id": "uhBzCNN9fzvq",
    "outputId": "de4b4a0a-3529-433b-9c4f-4efb32ce4ef8"
   },
   "outputs": [
    {
     "data": {
      "text/plain": [
       "<Axes: xlabel='category', ylabel='count'>"
      ]
     },
     "execution_count": 17,
     "metadata": {},
     "output_type": "execute_result"
    },
    {
     "data": {
      "image/png": "[encoded data removed]",
      "text/plain": [
       "<Figure size 640x480 with 1 Axes>"
      ]
     },
     "metadata": {},
     "output_type": "display_data"
    }
   ],
   "source": [
    "sns.countplot(x = df['category'])"
   ]
  },
  {
   "cell_type": "code",
   "execution_count": 18,
   "metadata": {
    "colab": {
     "base_uri": "https://localhost:8080/"
    },
    "id": "Ul-2noitf1Pp",
    "outputId": "02cf05e7-620e-4598-daef-529e19d76e96"
   },
   "outputs": [
    {
     "name": "stdout",
     "output_type": "stream",
     "text": [
      "[181, 375, 392, 651, 1222, 1528, 1835, 1975, 2339, 2446, 2588, 2780, 2796, 3252, 3617, 3649, 3939, 3987, 4396, 4415, 4417, 4431, 4432, 4786, 8046, 10323, 10592, 10618, 10621, 10626, 10630, 10929, 11118, 11467, 11825, 11958, 12775, 12857, 13169, 13296, 13409, 13573, 13583, 14207, 14460, 14805, 14815, 15385, 15442, 15832, 16173, 16276, 16309, 16406, 16537, 16652, 17200, 17394, 17876, 18133, 18342, 18882, 19029, 19498, 19598, 20987, 21123, 21433, 22316, 22815, 22877, 22971, 23127, 23618, 23658, 23834, 23861, 23862, 24568, 24752, 25107, 25296, 25570, 26188, 26230, 26864, 27102, 27405, 27529, 27580, 28073, 28086, 29168, 29387, 29544, 29844, 29882, 30059, 31448, 31748, 32149, 32355, 32474, 32522, 32991, 33356, 33441, 33600, 33799, 33953, 33982, 33985, 34415, 34915, 34935, 34959, 35711, 35778, 35987, 36707, 37044, 114473]\n"
     ]
    }
   ],
   "source": [
    "empty=[]\n",
    "for idx,clean_comment,category in df.itertuples():\n",
    "    if type(clean_comment)==str:\n",
    "        if clean_comment.isspace():\n",
    "            empty.append(idx)\n",
    "print(empty)"
   ]
  },
  {
   "cell_type": "code",
   "execution_count": 22,
   "metadata": {
    "colab": {
     "base_uri": "https://localhost:8080/",
     "height": 191
    },
    "id": "t9hlMJNvgSyT",
    "outputId": "4166e1c3-ab61-4906-8573-9db3135798b1"
   },
   "outputs": [
    {
     "data": {
      "image/png": "[encoded data removed]",
      "text/plain": [
       "<Figure size 500x200 with 1 Axes>"
      ]
     },
     "metadata": {},
     "output_type": "display_data"
    }
   ],
   "source": [
    "from wordcloud import WordCloud\n",
    "titles = ' '.join(title for title in df['clean_comment'])\n",
    "wordcloud = WordCloud(\n",
    "    background_color='white',\n",
    "    max_words=300,\n",
    "    width=800,\n",
    "    height=400,\n",
    ").generate(titles)\n",
    "\n",
    "plt.figure(figsize=(5,2))\n",
    "plt.imshow(wordcloud, interpolation='bilinear')\n",
    "plt.axis(\"off\")\n",
    "plt.show()"
   ]
  },
  {
   "cell_type": "code",
   "execution_count": 73,
   "metadata": {
    "id": "nUKu5HGbf5yp"
   },
   "outputs": [],
   "source": [
    "df.drop(empty,inplace=True)"
   ]
  },
  {
   "cell_type": "code",
   "execution_count": 23,
   "metadata": {
    "id": "qf2AgJ3hf8Ph"
   },
   "outputs": [],
   "source": [
    "def clean_text(msg):\n",
    "    token = word_tokenize(msg.lower())\n",
    "    ftoken = [i for i in token if i.isalpha()]\n",
    "\n",
    "    stop = stopwords.words('english')\n",
    "    stoken = [i for i in ftoken if i not in stop]\n",
    "\n",
    "    lemma = WordNetLemmatizer()\n",
    "    ltoken = [lemma.lemmatize(i) for i in stoken]\n",
    "\n",
    "    return ' '.join(ltoken)"
   ]
  },
  {
   "cell_type": "code",
   "execution_count": 24,
   "metadata": {
    "id": "hhBLOW8bhqVQ"
   },
   "outputs": [],
   "source": [
    "df['clean_comment']=df['clean_comment'].apply(clean_text)"
   ]
  },
  {
   "cell_type": "code",
   "execution_count": 25,
   "metadata": {
    "colab": {
     "base_uri": "https://localhost:8080/",
     "height": 206
    },
    "id": "M8B99DgThuog",
    "outputId": "9ea9a7e8-8825-4dbd-f066-0d06c6fd4f39"
   },
   "outputs": [
    {
     "data": {
      "text/html": [
       "<div>\n",
       "<style scoped>\n",
       "    .dataframe tbody tr th:only-of-type {\n",
       "        vertical-align: middle;\n",
       "    }\n",
       "\n",
       "    .dataframe tbody tr th {\n",
       "        vertical-align: top;\n",
       "    }\n",
       "\n",
       "    .dataframe thead th {\n",
       "        text-align: right;\n",
       "    }\n",
       "</style>\n",
       "<table border=\"1\" class=\"dataframe\">\n",
       "  <thead>\n",
       "    <tr style=\"text-align: right;\">\n",
       "      <th></th>\n",
       "      <th>clean_comment</th>\n",
       "      <th>category</th>\n",
       "    </tr>\n",
       "  </thead>\n",
       "  <tbody>\n",
       "    <tr>\n",
       "      <th>0</th>\n",
       "      <td>family mormon never tried explain still stare ...</td>\n",
       "      <td>Positive</td>\n",
       "    </tr>\n",
       "    <tr>\n",
       "      <th>1</th>\n",
       "      <td>buddhism much lot compatible christianity espe...</td>\n",
       "      <td>Positive</td>\n",
       "    </tr>\n",
       "    <tr>\n",
       "      <th>2</th>\n",
       "      <td>seriously say thing first get complex explain ...</td>\n",
       "      <td>Negative</td>\n",
       "    </tr>\n",
       "    <tr>\n",
       "      <th>3</th>\n",
       "      <td>learned want teach different focus goal wrappi...</td>\n",
       "      <td>Neutral</td>\n",
       "    </tr>\n",
       "    <tr>\n",
       "      <th>4</th>\n",
       "      <td>benefit may want read living buddha living chr...</td>\n",
       "      <td>Positive</td>\n",
       "    </tr>\n",
       "  </tbody>\n",
       "</table>\n",
       "</div>"
      ],
      "text/plain": [
       "                                       clean_comment  category\n",
       "0  family mormon never tried explain still stare ...  Positive\n",
       "1  buddhism much lot compatible christianity espe...  Positive\n",
       "2  seriously say thing first get complex explain ...  Negative\n",
       "3  learned want teach different focus goal wrappi...   Neutral\n",
       "4  benefit may want read living buddha living chr...  Positive"
      ]
     },
     "execution_count": 25,
     "metadata": {},
     "output_type": "execute_result"
    }
   ],
   "source": [
    "df.head()"
   ]
  },
  {
   "cell_type": "code",
   "execution_count": 26,
   "metadata": {
    "id": "y_LitIbU7W9f"
   },
   "outputs": [],
   "source": [
    "from sklearn.preprocessing import LabelEncoder\n",
    "le = LabelEncoder()\n",
    "df['category']=le.fit_transform(df['category'])"
   ]
  },
  {
   "cell_type": "code",
   "execution_count": 69,
   "metadata": {
    "id": "onF67a97h4Xv"
   },
   "outputs": [],
   "source": [
    "x = df['clean_comment']\n",
    "y = df['category']"
   ]
  },
  {
   "cell_type": "code",
   "execution_count": 70,
   "metadata": {
    "id": "hPWzwrUuh-mf"
   },
   "outputs": [],
   "source": [
    "from sklearn.model_selection import train_test_split\n",
    "xtrain,xtest,ytrain,ytest=train_test_split(x,y,test_size=0.30,random_state=1)"
   ]
  },
  {
   "cell_type": "code",
   "execution_count": 71,
   "metadata": {
    "id": "s-6RtsyfGlN1"
   },
   "outputs": [],
   "source": [
    "from sklearn.feature_extraction.text import TfidfVectorizer\n",
    "tvec = TfidfVectorizer(min_df=0.02)\n",
    "xtrain = tvec.fit_transform(xtrain).toarray()\n",
    "xtest = tvec.transform(xtest).toarray()"
   ]
  },
  {
   "cell_type": "code",
   "execution_count": 72,
   "metadata": {
    "id": "oI8st6cEiBSO"
   },
   "outputs": [],
   "source": [
    "# from sklearn.feature_extraction.text import CountVectorizer\n",
    "# cvec = CountVectorizer(min_df=0.02)\n",
    "# xtrain = cvec.fit_transform(xtrain).toarray()\n",
    "# xtest = cvec.transform(xtest).toarray()"
   ]
  },
  {
   "cell_type": "code",
   "execution_count": 73,
   "metadata": {
    "colab": {
     "base_uri": "https://localhost:8080/"
    },
    "id": "9NgUBTHyicVf",
    "outputId": "134011e0-5910-4f21-d653-745cd79addd0"
   },
   "outputs": [
    {
     "name": "stdout",
     "output_type": "stream",
     "text": [
      "Epoch 1/25\n",
      "2242/2242 [==============================] - 4s 2ms/step - loss: 0.9654 - accuracy: 0.5181 - val_loss: 0.9312 - val_accuracy: 0.5372\n",
      "Epoch 2/25\n",
      "2242/2242 [==============================] - 3s 1ms/step - loss: 0.9432 - accuracy: 0.5329 - val_loss: 0.9318 - val_accuracy: 0.5343\n",
      "Epoch 3/25\n",
      "2242/2242 [==============================] - 3s 1ms/step - loss: 0.9394 - accuracy: 0.5345 - val_loss: 0.9277 - val_accuracy: 0.5350\n",
      "Epoch 4/25\n",
      "2242/2242 [==============================] - 3s 2ms/step - loss: 0.9383 - accuracy: 0.5368 - val_loss: 0.9281 - val_accuracy: 0.5381\n",
      "Epoch 5/25\n",
      "2242/2242 [==============================] - 3s 1ms/step - loss: 0.9374 - accuracy: 0.5370 - val_loss: 0.9290 - val_accuracy: 0.5364\n",
      "Epoch 6/25\n",
      "2242/2242 [==============================] - 3s 2ms/step - loss: 0.9366 - accuracy: 0.5382 - val_loss: 0.9262 - val_accuracy: 0.5361\n",
      "Epoch 7/25\n",
      "2242/2242 [==============================] - 3s 1ms/step - loss: 0.9347 - accuracy: 0.5389 - val_loss: 0.9272 - val_accuracy: 0.5375\n",
      "Epoch 8/25\n",
      "2242/2242 [==============================] - 3s 1ms/step - loss: 0.9341 - accuracy: 0.5396 - val_loss: 0.9256 - val_accuracy: 0.5395\n",
      "Epoch 9/25\n",
      "2242/2242 [==============================] - 3s 2ms/step - loss: 0.9336 - accuracy: 0.5403 - val_loss: 0.9277 - val_accuracy: 0.5391\n",
      "Epoch 10/25\n",
      "2242/2242 [==============================] - 3s 1ms/step - loss: 0.9327 - accuracy: 0.5396 - val_loss: 0.9257 - val_accuracy: 0.5380\n",
      "Epoch 11/25\n",
      "2242/2242 [==============================] - 3s 1ms/step - loss: 0.9326 - accuracy: 0.5403 - val_loss: 0.9262 - val_accuracy: 0.5392\n",
      "Epoch 12/25\n",
      "2242/2242 [==============================] - 3s 2ms/step - loss: 0.9321 - accuracy: 0.5407 - val_loss: 0.9278 - val_accuracy: 0.5406\n",
      "Epoch 13/25\n",
      "2242/2242 [==============================] - 3s 2ms/step - loss: 0.9325 - accuracy: 0.5416 - val_loss: 0.9263 - val_accuracy: 0.5382\n",
      "Epoch 14/25\n",
      "2242/2242 [==============================] - 3s 2ms/step - loss: 0.9315 - accuracy: 0.5409 - val_loss: 0.9258 - val_accuracy: 0.5415\n",
      "Epoch 15/25\n",
      "2242/2242 [==============================] - 3s 2ms/step - loss: 0.9315 - accuracy: 0.5405 - val_loss: 0.9257 - val_accuracy: 0.5413\n",
      "Epoch 16/25\n",
      "2242/2242 [==============================] - 3s 1ms/step - loss: 0.9313 - accuracy: 0.5404 - val_loss: 0.9258 - val_accuracy: 0.5388\n",
      "Epoch 17/25\n",
      "2242/2242 [==============================] - 3s 2ms/step - loss: 0.9313 - accuracy: 0.5433 - val_loss: 0.9266 - val_accuracy: 0.5394\n",
      "Epoch 18/25\n",
      "2242/2242 [==============================] - 3s 1ms/step - loss: 0.9307 - accuracy: 0.5434 - val_loss: 0.9262 - val_accuracy: 0.5405\n",
      "Epoch 19/25\n",
      "2242/2242 [==============================] - 3s 1ms/step - loss: 0.9313 - accuracy: 0.5418 - val_loss: 0.9256 - val_accuracy: 0.5395\n",
      "Epoch 20/25\n",
      "2242/2242 [==============================] - 3s 2ms/step - loss: 0.9310 - accuracy: 0.5409 - val_loss: 0.9266 - val_accuracy: 0.5411\n",
      "Epoch 21/25\n",
      "2242/2242 [==============================] - 3s 2ms/step - loss: 0.9309 - accuracy: 0.5424 - val_loss: 0.9253 - val_accuracy: 0.5421\n",
      "Epoch 22/25\n",
      "2242/2242 [==============================] - 3s 2ms/step - loss: 0.9311 - accuracy: 0.5417 - val_loss: 0.9269 - val_accuracy: 0.5395\n",
      "Epoch 23/25\n",
      "2242/2242 [==============================] - 3s 2ms/step - loss: 0.9299 - accuracy: 0.5421 - val_loss: 0.9253 - val_accuracy: 0.5397\n",
      "Epoch 24/25\n",
      "2242/2242 [==============================] - 3s 1ms/step - loss: 0.9304 - accuracy: 0.5420 - val_loss: 0.9259 - val_accuracy: 0.5394\n",
      "Epoch 25/25\n",
      "2242/2242 [==============================] - 3s 1ms/step - loss: 0.9299 - accuracy: 0.5427 - val_loss: 0.9262 - val_accuracy: 0.5406\n"
     ]
    },
    {
     "data": {
      "text/plain": [
       "<keras.callbacks.History at 0x20a28f13910>"
      ]
     },
     "execution_count": 73,
     "metadata": {},
     "output_type": "execute_result"
    }
   ],
   "source": [
    "ann = Sequential()\n",
    "\n",
    "ann.add(Dense(units=32,activation='tanh'))\n",
    "ann.add(Dropout(rate=0.20))\n",
    "\n",
    "ann.add(Dense(units=24,activation='relu'))\n",
    "ann.add(Dropout(rate=0.20))\n",
    "\n",
    "ann.add(Dense(units=12,activation='relu'))\n",
    "ann.add(Dropout(rate=0.20))\n",
    "\n",
    "ann.add(Dense(units=3,activation='softmax'))\n",
    "\n",
    "ann.compile(optimizer='adam',loss='sparse_categorical_crossentropy',metrics=['accuracy'])\n",
    "ann.fit(xtrain,ytrain,batch_size=50,epochs=25,validation_split=0.20)"
   ]
  },
  {
   "cell_type": "code",
   "execution_count": 75,
   "metadata": {
    "colab": {
     "base_uri": "https://localhost:8080/"
    },
    "id": "L99PJ9qGimhP",
    "outputId": "ea770e1b-69fd-4ad3-edc6-7c9b4855e669"
   },
   "outputs": [
    {
     "name": "stdout",
     "output_type": "stream",
     "text": [
      "1877/1877 [==============================] - 2s 867us/step\n"
     ]
    }
   ],
   "source": [
    "ypred = ann.predict(xtest)\n",
    "ypred = ypred.argmax(axis=1)"
   ]
  },
  {
   "cell_type": "code",
   "execution_count": 76,
   "metadata": {
    "colab": {
     "base_uri": "https://localhost:8080/"
    },
    "id": "-vrwOuTmlKDt",
    "outputId": "e47e7cfa-93e8-4cb2-e2aa-6d40e4e171bd"
   },
   "outputs": [
    {
     "name": "stdout",
     "output_type": "stream",
     "text": [
      "              precision    recall  f1-score   support\n",
      "\n",
      "           0       0.41      0.02      0.04     13124\n",
      "           1       0.50      0.75      0.60     20447\n",
      "           2       0.59      0.64      0.61     26465\n",
      "\n",
      "    accuracy                           0.54     60036\n",
      "   macro avg       0.50      0.47      0.42     60036\n",
      "weighted avg       0.52      0.54      0.48     60036\n",
      "\n"
     ]
    }
   ],
   "source": [
    "from sklearn.metrics import classification_report\n",
    "print(classification_report(ytest,ypred))"
   ]
  },
  {
   "cell_type": "code",
   "execution_count": 35,
   "metadata": {
    "colab": {
     "base_uri": "https://localhost:8080/",
     "height": 206
    },
    "id": "GXuN-UvNlNtd",
    "outputId": "8c619aff-f092-4edd-b0c7-65f1deca76f4"
   },
   "outputs": [
    {
     "data": {
      "text/html": [
       "<div>\n",
       "<style scoped>\n",
       "    .dataframe tbody tr th:only-of-type {\n",
       "        vertical-align: middle;\n",
       "    }\n",
       "\n",
       "    .dataframe tbody tr th {\n",
       "        vertical-align: top;\n",
       "    }\n",
       "\n",
       "    .dataframe thead th {\n",
       "        text-align: right;\n",
       "    }\n",
       "</style>\n",
       "<table border=\"1\" class=\"dataframe\">\n",
       "  <thead>\n",
       "    <tr style=\"text-align: right;\">\n",
       "      <th></th>\n",
       "      <th>clean_comment</th>\n",
       "      <th>category</th>\n",
       "    </tr>\n",
       "  </thead>\n",
       "  <tbody>\n",
       "    <tr>\n",
       "      <th>0</th>\n",
       "      <td>family mormon never tried explain still stare ...</td>\n",
       "      <td>2</td>\n",
       "    </tr>\n",
       "    <tr>\n",
       "      <th>1</th>\n",
       "      <td>buddhism much lot compatible christianity espe...</td>\n",
       "      <td>2</td>\n",
       "    </tr>\n",
       "    <tr>\n",
       "      <th>2</th>\n",
       "      <td>seriously say thing first get complex explain ...</td>\n",
       "      <td>0</td>\n",
       "    </tr>\n",
       "    <tr>\n",
       "      <th>3</th>\n",
       "      <td>learned want teach different focus goal wrappi...</td>\n",
       "      <td>1</td>\n",
       "    </tr>\n",
       "    <tr>\n",
       "      <th>4</th>\n",
       "      <td>benefit may want read living buddha living chr...</td>\n",
       "      <td>2</td>\n",
       "    </tr>\n",
       "  </tbody>\n",
       "</table>\n",
       "</div>"
      ],
      "text/plain": [
       "                                       clean_comment  category\n",
       "0  family mormon never tried explain still stare ...         2\n",
       "1  buddhism much lot compatible christianity espe...         2\n",
       "2  seriously say thing first get complex explain ...         0\n",
       "3  learned want teach different focus goal wrappi...         1\n",
       "4  benefit may want read living buddha living chr...         2"
      ]
     },
     "execution_count": 35,
     "metadata": {},
     "output_type": "execute_result"
    }
   ],
   "source": [
    "df.head()"
   ]
  },
  {
   "cell_type": "code",
   "execution_count": 36,
   "metadata": {
    "id": "RB6DD4gClUok"
   },
   "outputs": [],
   "source": [
    "#spliting data into x and y\n",
    "x = df['clean_comment']\n",
    "y = df['category']"
   ]
  },
  {
   "cell_type": "code",
   "execution_count": 37,
   "metadata": {
    "id": "bPeB7dgJlnGM"
   },
   "outputs": [],
   "source": [
    "from sklearn.model_selection import train_test_split\n",
    "xtrain,xtest,ytrain,ytest = train_test_split(x,y,test_size=0.30,random_state=1)"
   ]
  },
  {
   "cell_type": "code",
   "execution_count": 38,
   "metadata": {
    "id": "lpnUoktAlxJv"
   },
   "outputs": [],
   "source": [
    "sentlen = []\n",
    "for i in df['clean_comment']:\n",
    "    sentlen.append(len(word_tokenize(i)))\n",
    "df['Sentlen'] = sentlen"
   ]
  },
  {
   "cell_type": "code",
   "execution_count": 39,
   "metadata": {
    "colab": {
     "base_uri": "https://localhost:8080/",
     "height": 206
    },
    "id": "z4dl4qdMlz_P",
    "outputId": "262ba862-550c-4a65-f143-e5c60ffc13d3"
   },
   "outputs": [
    {
     "data": {
      "text/html": [
       "<div>\n",
       "<style scoped>\n",
       "    .dataframe tbody tr th:only-of-type {\n",
       "        vertical-align: middle;\n",
       "    }\n",
       "\n",
       "    .dataframe tbody tr th {\n",
       "        vertical-align: top;\n",
       "    }\n",
       "\n",
       "    .dataframe thead th {\n",
       "        text-align: right;\n",
       "    }\n",
       "</style>\n",
       "<table border=\"1\" class=\"dataframe\">\n",
       "  <thead>\n",
       "    <tr style=\"text-align: right;\">\n",
       "      <th></th>\n",
       "      <th>clean_comment</th>\n",
       "      <th>category</th>\n",
       "      <th>Sentlen</th>\n",
       "    </tr>\n",
       "  </thead>\n",
       "  <tbody>\n",
       "    <tr>\n",
       "      <th>0</th>\n",
       "      <td>family mormon never tried explain still stare ...</td>\n",
       "      <td>2</td>\n",
       "      <td>26</td>\n",
       "    </tr>\n",
       "    <tr>\n",
       "      <th>1</th>\n",
       "      <td>buddhism much lot compatible christianity espe...</td>\n",
       "      <td>2</td>\n",
       "      <td>137</td>\n",
       "    </tr>\n",
       "    <tr>\n",
       "      <th>2</th>\n",
       "      <td>seriously say thing first get complex explain ...</td>\n",
       "      <td>0</td>\n",
       "      <td>46</td>\n",
       "    </tr>\n",
       "    <tr>\n",
       "      <th>3</th>\n",
       "      <td>learned want teach different focus goal wrappi...</td>\n",
       "      <td>1</td>\n",
       "      <td>14</td>\n",
       "    </tr>\n",
       "    <tr>\n",
       "      <th>4</th>\n",
       "      <td>benefit may want read living buddha living chr...</td>\n",
       "      <td>2</td>\n",
       "      <td>67</td>\n",
       "    </tr>\n",
       "  </tbody>\n",
       "</table>\n",
       "</div>"
      ],
      "text/plain": [
       "                                       clean_comment  category  Sentlen\n",
       "0  family mormon never tried explain still stare ...         2       26\n",
       "1  buddhism much lot compatible christianity espe...         2      137\n",
       "2  seriously say thing first get complex explain ...         0       46\n",
       "3  learned want teach different focus goal wrappi...         1       14\n",
       "4  benefit may want read living buddha living chr...         2       67"
      ]
     },
     "execution_count": 39,
     "metadata": {},
     "output_type": "execute_result"
    }
   ],
   "source": [
    "df.head()"
   ]
  },
  {
   "cell_type": "code",
   "execution_count": 40,
   "metadata": {
    "colab": {
     "base_uri": "https://localhost:8080/"
    },
    "id": "AOT0vz3bmN9r",
    "outputId": "0ac7b1db-ca21-4d28-ca9a-9485c606980e"
   },
   "outputs": [
    {
     "data": {
      "text/plain": [
       "866"
      ]
     },
     "execution_count": 40,
     "metadata": {},
     "output_type": "execute_result"
    }
   ],
   "source": [
    "max(sentlen)"
   ]
  },
  {
   "cell_type": "code",
   "execution_count": 41,
   "metadata": {
    "colab": {
     "base_uri": "https://localhost:8080/"
    },
    "id": "Ubh2QPG3mRGL",
    "outputId": "04cb6272-7dd7-4c68-dca6-324c9cc12d6b"
   },
   "outputs": [
    {
     "data": {
      "text/plain": [
       "0"
      ]
     },
     "execution_count": 41,
     "metadata": {},
     "output_type": "execute_result"
    }
   ],
   "source": [
    "min(sentlen)"
   ]
  },
  {
   "cell_type": "code",
   "execution_count": 42,
   "metadata": {
    "id": "Eabceo7dmYFL"
   },
   "outputs": [],
   "source": [
    "max_len = np.quantile(sentlen,0.90)"
   ]
  },
  {
   "cell_type": "code",
   "execution_count": 43,
   "metadata": {
    "collapsed": true,
    "id": "cfTW6ORwmohD"
   },
   "outputs": [
    {
     "data": {
      "text/plain": [
       "{1: 'modi',\n",
       " 2: 'india',\n",
       " 3: 'people',\n",
       " 4: 'bjp',\n",
       " 5: 'like',\n",
       " 6: 'congress',\n",
       " 7: 'one',\n",
       " 8: 'election',\n",
       " 9: 'vote',\n",
       " 10: 'indian',\n",
       " 11: 'narendra',\n",
       " 12: 'time',\n",
       " 13: 'year',\n",
       " 14: 'say',\n",
       " 15: 'country',\n",
       " 16: 'govt',\n",
       " 17: 'get',\n",
       " 18: 'even',\n",
       " 19: 'know',\n",
       " 20: 'want',\n",
       " 21: 'dont',\n",
       " 22: 'also',\n",
       " 23: 'good',\n",
       " 24: 'party',\n",
       " 25: 'government',\n",
       " 26: 'would',\n",
       " 27: 'nation',\n",
       " 28: 'modis',\n",
       " 29: 'rahul',\n",
       " 30: 'make',\n",
       " 31: 'think',\n",
       " 32: 'give',\n",
       " 33: 'power',\n",
       " 34: 'see',\n",
       " 35: 'need',\n",
       " 36: 'minister',\n",
       " 37: 'come',\n",
       " 38: 'said',\n",
       " 39: 'gandhi',\n",
       " 40: 'take',\n",
       " 41: 'leader',\n",
       " 42: 'thing',\n",
       " 43: 'pakistan',\n",
       " 44: 'money',\n",
       " 45: 'work',\n",
       " 46: 'hai',\n",
       " 47: 'day',\n",
       " 48: 'right',\n",
       " 49: 'done',\n",
       " 50: 'every',\n",
       " 51: 'back',\n",
       " 52: 'credit',\n",
       " 53: 'much',\n",
       " 54: 'space',\n",
       " 55: 'many',\n",
       " 56: 'never',\n",
       " 57: 'support',\n",
       " 58: 'medium',\n",
       " 59: 'job',\n",
       " 60: 'well',\n",
       " 61: 'new',\n",
       " 62: 'prime',\n",
       " 63: 'win',\n",
       " 64: 'world',\n",
       " 65: 'way',\n",
       " 66: 'today',\n",
       " 67: 'sir',\n",
       " 68: 'made',\n",
       " 69: 'please',\n",
       " 70: 'opposition',\n",
       " 71: 'news',\n",
       " 72: 'still',\n",
       " 73: 'state',\n",
       " 74: 'first',\n",
       " 75: 'going',\n",
       " 76: 'political',\n",
       " 77: 'great',\n",
       " 78: 'last',\n",
       " 79: 'let',\n",
       " 80: 'scientist',\n",
       " 81: 'may',\n",
       " 82: 'anti',\n",
       " 83: 'via',\n",
       " 84: 'chowkidar',\n",
       " 85: 'poor',\n",
       " 86: 'best',\n",
       " 87: 'better',\n",
       " 88: 'family',\n",
       " 89: 'hindu',\n",
       " 90: 'muslim',\n",
       " 91: 'question',\n",
       " 92: 'man',\n",
       " 93: 'show',\n",
       " 94: 'got',\n",
       " 95: 'satellite',\n",
       " 96: 'issue',\n",
       " 97: 'guy',\n",
       " 98: 'nehru',\n",
       " 99: 'drdo',\n",
       " 100: 'really',\n",
       " 101: 'look',\n",
       " 102: 'crore',\n",
       " 103: 'live',\n",
       " 104: 'nothing',\n",
       " 105: 'seat',\n",
       " 106: 'name',\n",
       " 107: 'could',\n",
       " 108: 'nirav',\n",
       " 109: 'scheme',\n",
       " 110: 'national',\n",
       " 111: 'next',\n",
       " 112: 'must',\n",
       " 113: 'strike',\n",
       " 114: 'hate',\n",
       " 115: 'given',\n",
       " 116: 'yes',\n",
       " 117: 'mean',\n",
       " 118: 'always',\n",
       " 119: 'achievement',\n",
       " 120: 'lakh',\n",
       " 121: 'become',\n",
       " 122: 'another',\n",
       " 123: 'lot',\n",
       " 124: 'address',\n",
       " 125: 'mission',\n",
       " 126: 'big',\n",
       " 127: 'keep',\n",
       " 128: 'since',\n",
       " 129: 'politics',\n",
       " 130: 'promise',\n",
       " 131: 'person',\n",
       " 132: 'cant',\n",
       " 133: 'anything',\n",
       " 134: 'ask',\n",
       " 135: 'stop',\n",
       " 136: 'love',\n",
       " 137: 'campaign',\n",
       " 138: 'speech',\n",
       " 139: 'without',\n",
       " 140: 'life',\n",
       " 141: 'development',\n",
       " 142: 'upa',\n",
       " 143: 'post',\n",
       " 144: 'reason',\n",
       " 145: 'shah',\n",
       " 146: 'saying',\n",
       " 147: 'public',\n",
       " 148: 'team',\n",
       " 149: 'something',\n",
       " 150: 'proud',\n",
       " 151: 'free',\n",
       " 152: 'watch',\n",
       " 153: 'already',\n",
       " 154: 'making',\n",
       " 155: 'case',\n",
       " 156: 'namo',\n",
       " 157: 'talk',\n",
       " 158: 'sure',\n",
       " 159: 'thats',\n",
       " 160: 'tell',\n",
       " 161: 'missile',\n",
       " 162: 'attack',\n",
       " 163: 'hope',\n",
       " 164: 'didnt',\n",
       " 165: 'fact',\n",
       " 166: 'etc',\n",
       " 167: 'corruption',\n",
       " 168: 'understand',\n",
       " 169: 'bank',\n",
       " 170: 'problem',\n",
       " 171: 'real',\n",
       " 172: 'fake',\n",
       " 173: 'thanks',\n",
       " 174: 'read',\n",
       " 175: 'true',\n",
       " 176: 'change',\n",
       " 177: 'giving',\n",
       " 178: 'help',\n",
       " 179: 'believe',\n",
       " 180: 'per',\n",
       " 181: 'everyone',\n",
       " 182: 'everything',\n",
       " 183: 'jai',\n",
       " 184: 'wrong',\n",
       " 185: 'two',\n",
       " 186: 'point',\n",
       " 187: 'ever',\n",
       " 188: 'gave',\n",
       " 189: 'tax',\n",
       " 190: 'video',\n",
       " 191: 'feel',\n",
       " 192: 'terrorist',\n",
       " 193: 'use',\n",
       " 194: 'tweet',\n",
       " 195: 'rally',\n",
       " 196: 'policy',\n",
       " 197: 'called',\n",
       " 198: 'asat',\n",
       " 199: 'call',\n",
       " 200: 'rule',\n",
       " 201: 'long',\n",
       " 202: 'bad',\n",
       " 203: 'candidate',\n",
       " 204: 'supporter',\n",
       " 205: 'getting',\n",
       " 206: 'test',\n",
       " 207: 'trying',\n",
       " 208: 'economy',\n",
       " 209: 'shakti',\n",
       " 210: 'used',\n",
       " 211: 'start',\n",
       " 212: 'doesnt',\n",
       " 213: 'account',\n",
       " 214: 'voter',\n",
       " 215: 'due',\n",
       " 216: 'away',\n",
       " 217: 'isro',\n",
       " 218: 'force',\n",
       " 219: 'word',\n",
       " 220: 'pappu',\n",
       " 221: 'put',\n",
       " 222: 'someone',\n",
       " 223: 'army',\n",
       " 224: 'anyone',\n",
       " 225: 'scam',\n",
       " 226: 'air',\n",
       " 227: 'started',\n",
       " 228: 'china',\n",
       " 229: 'politician',\n",
       " 230: 'seen',\n",
       " 231: 'part',\n",
       " 232: 'court',\n",
       " 233: 'farmer',\n",
       " 234: 'hand',\n",
       " 235: 'strong',\n",
       " 236: 'taking',\n",
       " 237: 'full',\n",
       " 238: 'place',\n",
       " 239: 'actually',\n",
       " 240: 'bhi',\n",
       " 241: 'pak',\n",
       " 242: 'interview',\n",
       " 243: 'coming',\n",
       " 244: 'enough',\n",
       " 245: 'movie',\n",
       " 246: 'term',\n",
       " 247: 'hard',\n",
       " 248: 'friend',\n",
       " 249: 'lie',\n",
       " 250: 'bhakts',\n",
       " 251: 'matter',\n",
       " 252: 'thought',\n",
       " 253: 'left',\n",
       " 254: 'gujarat',\n",
       " 255: 'democracy',\n",
       " 256: 'face',\n",
       " 257: 'aap',\n",
       " 258: 'corrupt',\n",
       " 259: 'chief',\n",
       " 260: 'announcement',\n",
       " 261: 'high',\n",
       " 262: 'god',\n",
       " 263: 'answer',\n",
       " 264: 'happened',\n",
       " 265: 'talking',\n",
       " 266: 'delhi',\n",
       " 267: 'else',\n",
       " 268: 'poll',\n",
       " 269: 'bharat',\n",
       " 270: 'r',\n",
       " 271: 'chor',\n",
       " 272: 'woman',\n",
       " 273: 'whole',\n",
       " 274: 'go',\n",
       " 275: 'thank',\n",
       " 276: 'others',\n",
       " 277: 'came',\n",
       " 278: 'war',\n",
       " 279: 'ppl',\n",
       " 280: 'congratulation',\n",
       " 281: 'security',\n",
       " 282: 'try',\n",
       " 283: 'fight',\n",
       " 284: 'taken',\n",
       " 285: 'mind',\n",
       " 286: 'decision',\n",
       " 287: 'instead',\n",
       " 288: 'action',\n",
       " 289: 'loan',\n",
       " 290: 'citizen',\n",
       " 291: 'stand',\n",
       " 292: 'lost',\n",
       " 293: 'care',\n",
       " 294: 'happy',\n",
       " 295: 'seems',\n",
       " 296: 'took',\n",
       " 297: 'till',\n",
       " 298: 'surgical',\n",
       " 299: 'statement',\n",
       " 300: 'failed',\n",
       " 301: 'bring',\n",
       " 302: 'month',\n",
       " 303: 'important',\n",
       " 304: 'comment',\n",
       " 305: 'find',\n",
       " 306: 'around',\n",
       " 307: 'far',\n",
       " 308: 'singh',\n",
       " 309: 'least',\n",
       " 310: 'working',\n",
       " 311: 'old',\n",
       " 312: 'varanasi',\n",
       " 313: 'future',\n",
       " 314: 'dear',\n",
       " 315: 'end',\n",
       " 316: 'sabha',\n",
       " 317: 'leadership',\n",
       " 318: 'channel',\n",
       " 319: 'shame',\n",
       " 320: 'sarkar',\n",
       " 321: 'using',\n",
       " 322: 'shit',\n",
       " 323: 'success',\n",
       " 324: 'difference',\n",
       " 325: 'idea',\n",
       " 326: 'code',\n",
       " 327: 'majority',\n",
       " 328: 'kind',\n",
       " 329: 'remember',\n",
       " 330: 'cong',\n",
       " 331: 'contest',\n",
       " 332: 'promised',\n",
       " 333: 'might',\n",
       " 334: 'run',\n",
       " 335: 'common',\n",
       " 336: 'amit',\n",
       " 337: 'asked',\n",
       " 338: 'entire',\n",
       " 339: 'wont',\n",
       " 340: 'number',\n",
       " 341: 'result',\n",
       " 342: 'report',\n",
       " 343: 'black',\n",
       " 344: 'asking',\n",
       " 345: 'lok',\n",
       " 346: 'different',\n",
       " 347: 'level',\n",
       " 348: 'income',\n",
       " 349: 'app',\n",
       " 350: 'single',\n",
       " 351: 'proof',\n",
       " 352: 'fool',\n",
       " 353: 'yr',\n",
       " 354: 'claim',\n",
       " 355: 'law',\n",
       " 356: 'respect',\n",
       " 357: 'shri',\n",
       " 358: 'modiji',\n",
       " 359: 'towards',\n",
       " 360: 'blame',\n",
       " 361: 'happen',\n",
       " 362: 'side',\n",
       " 363: 'project',\n",
       " 364: 'low',\n",
       " 365: 'agree',\n",
       " 366: 'save',\n",
       " 367: 'agenda',\n",
       " 368: 'wish',\n",
       " 369: 'social',\n",
       " 370: 'business',\n",
       " 371: 'article',\n",
       " 372: 'poverty',\n",
       " 373: 'yet',\n",
       " 374: 'top',\n",
       " 375: 'though',\n",
       " 376: 'able',\n",
       " 377: 'possible',\n",
       " 378: 'act',\n",
       " 379: 'story',\n",
       " 380: 'youth',\n",
       " 381: 'shot',\n",
       " 382: 'biggest',\n",
       " 383: 'behind',\n",
       " 384: 'failure',\n",
       " 385: 'kashmir',\n",
       " 386: 'south',\n",
       " 387: 'commission',\n",
       " 388: 'announced',\n",
       " 389: 'truth',\n",
       " 390: 'huge',\n",
       " 391: 'past',\n",
       " 392: 'set',\n",
       " 393: 'journalist',\n",
       " 394: 'speak',\n",
       " 395: 'hind',\n",
       " 396: 'capability',\n",
       " 397: 'conduct',\n",
       " 398: 'game',\n",
       " 399: 'history',\n",
       " 400: 'trump',\n",
       " 401: 'chance',\n",
       " 402: 'lol',\n",
       " 403: 'message',\n",
       " 404: 'bhakt',\n",
       " 405: 'system',\n",
       " 406: 'fear',\n",
       " 407: 'responsible',\n",
       " 408: 'plan',\n",
       " 409: 'join',\n",
       " 410: 'clear',\n",
       " 411: 'main',\n",
       " 412: 'bail',\n",
       " 413: 'kya',\n",
       " 414: 'class',\n",
       " 415: 'soon',\n",
       " 416: 'economic',\n",
       " 417: 'non',\n",
       " 418: 'twitter',\n",
       " 419: 'president',\n",
       " 420: 'source',\n",
       " 421: 'line',\n",
       " 422: 'le',\n",
       " 423: 'second',\n",
       " 424: 'vision',\n",
       " 425: 'told',\n",
       " 426: 'group',\n",
       " 427: 'forget',\n",
       " 428: 'wait',\n",
       " 429: 'home',\n",
       " 430: 'share',\n",
       " 431: 'antisatellite',\n",
       " 432: 'opinion',\n",
       " 433: 'nda',\n",
       " 434: 'nahi',\n",
       " 435: 'voting',\n",
       " 436: 'pay',\n",
       " 437: 'religion',\n",
       " 438: 'ahead',\n",
       " 439: 'wave',\n",
       " 440: 'open',\n",
       " 441: 'hatred',\n",
       " 442: 'supporting',\n",
       " 443: 'list',\n",
       " 444: 'either',\n",
       " 445: 'check',\n",
       " 446: 'model',\n",
       " 447: 'benefit',\n",
       " 448: 'super',\n",
       " 449: 'defeat',\n",
       " 450: 'went',\n",
       " 451: 'ready',\n",
       " 452: 'fuck',\n",
       " 453: 'growth',\n",
       " 454: 'minority',\n",
       " 455: 'data',\n",
       " 456: 'stupid',\n",
       " 457: 'pakistani',\n",
       " 458: 'clean',\n",
       " 459: 'deal',\n",
       " 460: 'aur',\n",
       " 461: 'propaganda',\n",
       " 462: 'land',\n",
       " 463: 'trust',\n",
       " 464: 'fan',\n",
       " 465: 'hit',\n",
       " 466: 'follow',\n",
       " 467: 'created',\n",
       " 468: 'raga',\n",
       " 469: 'foreign',\n",
       " 470: 'liberal',\n",
       " 471: 'five',\n",
       " 472: 'view',\n",
       " 473: 'move',\n",
       " 474: 'waiting',\n",
       " 475: 'doubt',\n",
       " 476: 'head',\n",
       " 477: 'house',\n",
       " 478: 'killed',\n",
       " 479: 'whatever',\n",
       " 480: 'ticket',\n",
       " 481: 'safe',\n",
       " 482: 'order',\n",
       " 483: 'reality',\n",
       " 484: 'self',\n",
       " 485: 'expect',\n",
       " 486: 'member',\n",
       " 487: 'step',\n",
       " 488: 'launch',\n",
       " 489: 'indira',\n",
       " 490: 'note',\n",
       " 491: 'sense',\n",
       " 492: 'debate',\n",
       " 493: 'update',\n",
       " 494: 'became',\n",
       " 495: 'ground',\n",
       " 496: 'rather',\n",
       " 497: 'interest',\n",
       " 498: 'front',\n",
       " 499: 'khan',\n",
       " 500: 'ambani',\n",
       " 501: 'education',\n",
       " 502: 'lose',\n",
       " 503: 'rest',\n",
       " 504: 'major',\n",
       " 505: 'play',\n",
       " 506: 'moment',\n",
       " 507: 'unemployment',\n",
       " 508: 'based',\n",
       " 509: 'brought',\n",
       " 510: 'road',\n",
       " 511: 'reply',\n",
       " 512: 'across',\n",
       " 513: 'paid',\n",
       " 514: 'wanted',\n",
       " 515: 'jail',\n",
       " 516: 'press',\n",
       " 517: 'defence',\n",
       " 518: 'company',\n",
       " 519: 'link',\n",
       " 520: 'mallya',\n",
       " 521: 'successfully',\n",
       " 522: 'target',\n",
       " 523: 'gst',\n",
       " 524: 'small',\n",
       " 525: 'bhai',\n",
       " 526: 'biopic',\n",
       " 527: 'whether',\n",
       " 528: 'form',\n",
       " 529: 'thinking',\n",
       " 530: 'idiot',\n",
       " 531: 'city',\n",
       " 532: 'pls',\n",
       " 533: 'lead',\n",
       " 534: 'film',\n",
       " 535: 'successful',\n",
       " 536: 'wonder',\n",
       " 537: 'constituency',\n",
       " 538: 'general',\n",
       " 539: 'leave',\n",
       " 540: 'looking',\n",
       " 541: 'release',\n",
       " 542: 'institution',\n",
       " 543: 'definitely',\n",
       " 544: 'voted',\n",
       " 545: 'official',\n",
       " 546: 'worry',\n",
       " 547: 'soldier',\n",
       " 548: 'child',\n",
       " 549: 'week',\n",
       " 550: 'within',\n",
       " 551: 'gone',\n",
       " 552: 'honest',\n",
       " 553: 'ram',\n",
       " 554: 'million',\n",
       " 555: 'create',\n",
       " 556: 'middle',\n",
       " 557: 'price',\n",
       " 558: 'dream',\n",
       " 559: 'maybe',\n",
       " 560: 'imran',\n",
       " 561: 'language',\n",
       " 562: 'rafale',\n",
       " 563: 'ban',\n",
       " 564: 'brother',\n",
       " 565: 'effort',\n",
       " 566: 'situation',\n",
       " 567: 'shoot',\n",
       " 568: 'continue',\n",
       " 569: 'turn',\n",
       " 570: 'announce',\n",
       " 571: 'guess',\n",
       " 572: 'heard',\n",
       " 573: 'destroyed',\n",
       " 574: 'vijay',\n",
       " 575: 'including',\n",
       " 576: 'current',\n",
       " 577: 'probably',\n",
       " 578: 'kar',\n",
       " 579: 'earlier',\n",
       " 580: 'elected',\n",
       " 581: 'remove',\n",
       " 582: 'hour',\n",
       " 583: 'changed',\n",
       " 584: 'isnt',\n",
       " 585: 'buy',\n",
       " 586: 'yogi',\n",
       " 587: 'almost',\n",
       " 588: 'death',\n",
       " 589: 'pulwama',\n",
       " 590: 'priyanka',\n",
       " 591: 'arnab',\n",
       " 592: 'fund',\n",
       " 593: 'ago',\n",
       " 594: 'former',\n",
       " 595: 'example',\n",
       " 596: 'pradesh',\n",
       " 597: 'peace',\n",
       " 598: 'rich',\n",
       " 599: 'living',\n",
       " 600: 'kejriwal',\n",
       " 601: 'little',\n",
       " 602: 'balakot',\n",
       " 603: 'sorry',\n",
       " 604: 'office',\n",
       " 605: 'regime',\n",
       " 606: 'body',\n",
       " 607: 'inc',\n",
       " 608: 'cry',\n",
       " 609: 'hell',\n",
       " 610: 'narrative',\n",
       " 611: 'police',\n",
       " 612: 'otherwise',\n",
       " 613: 'cost',\n",
       " 614: 'young',\n",
       " 615: 'amount',\n",
       " 616: 'return',\n",
       " 617: 'dynasty',\n",
       " 618: 'hain',\n",
       " 619: 'personal',\n",
       " 620: 'stay',\n",
       " 621: 'led',\n",
       " 622: 'nyay',\n",
       " 623: 'choice',\n",
       " 624: 'joke',\n",
       " 625: 'north',\n",
       " 626: 'international',\n",
       " 627: 'na',\n",
       " 628: 'request',\n",
       " 629: 'together',\n",
       " 630: 'son',\n",
       " 631: 'atleast',\n",
       " 632: 'rate',\n",
       " 633: 'exactly',\n",
       " 634: 'becomes',\n",
       " 635: 'community',\n",
       " 636: 'saw',\n",
       " 637: 'fighting',\n",
       " 638: 'decade',\n",
       " 639: 'image',\n",
       " 640: 'terror',\n",
       " 641: 'terrorism',\n",
       " 642: 'running',\n",
       " 643: 'except',\n",
       " 644: 'visit',\n",
       " 645: 'assam',\n",
       " 646: 'london',\n",
       " 647: 'educated',\n",
       " 648: 'winning',\n",
       " 649: 'false',\n",
       " 650: 'logic',\n",
       " 651: 'achieved',\n",
       " 652: 'toh',\n",
       " 653: 'picture',\n",
       " 654: 'meeting',\n",
       " 655: 'father',\n",
       " 656: 'area',\n",
       " 657: 'tried',\n",
       " 658: 'hater',\n",
       " 659: 'courage',\n",
       " 660: 'option',\n",
       " 661: 'card',\n",
       " 662: 'happens',\n",
       " 663: 'mistake',\n",
       " 664: 'earth',\n",
       " 665: 'alliance',\n",
       " 666: 'technology',\n",
       " 667: 'thread',\n",
       " 668: 'along',\n",
       " 669: 'pro',\n",
       " 670: 'sonia',\n",
       " 671: 'karnataka',\n",
       " 672: 'nobody',\n",
       " 673: 'nice',\n",
       " 674: 'quite',\n",
       " 675: 'fucking',\n",
       " 676: 'listen',\n",
       " 677: 'society',\n",
       " 678: 'feeling',\n",
       " 679: 'secular',\n",
       " 680: 'freedom',\n",
       " 681: 'wow',\n",
       " 682: 'simple',\n",
       " 683: 'weapon',\n",
       " 684: 'kill',\n",
       " 685: 'hindi',\n",
       " 686: 'present',\n",
       " 687: 'he',\n",
       " 688: 'april',\n",
       " 689: 'known',\n",
       " 690: 'pretty',\n",
       " 691: 'seriously',\n",
       " 692: 'becoming',\n",
       " 693: 'calling',\n",
       " 694: 'worst',\n",
       " 695: 'ndtv',\n",
       " 696: 'course',\n",
       " 697: 'scared',\n",
       " 698: 'hold',\n",
       " 699: 'lac',\n",
       " 700: 'mumkin',\n",
       " 701: 'mein',\n",
       " 702: 'desh',\n",
       " 703: 'gang',\n",
       " 704: 'according',\n",
       " 705: 'cow',\n",
       " 706: 'meerut',\n",
       " 707: 'sad',\n",
       " 708: 'whats',\n",
       " 709: 'jumla',\n",
       " 710: 'voice',\n",
       " 711: 'book',\n",
       " 712: 'however',\n",
       " 713: 'opportunity',\n",
       " 714: 'communal',\n",
       " 715: 'among',\n",
       " 716: 'forward',\n",
       " 717: 'blind',\n",
       " 718: 'accept',\n",
       " 719: 'lack',\n",
       " 720: 'village',\n",
       " 721: 'abt',\n",
       " 722: 'minute',\n",
       " 723: 'march',\n",
       " 724: 'kumar',\n",
       " 725: 'previous',\n",
       " 726: 'human',\n",
       " 727: 'girl',\n",
       " 728: 'hence',\n",
       " 729: 'playing',\n",
       " 730: 'master',\n",
       " 731: 'prove',\n",
       " 732: 'har',\n",
       " 733: 'destroy',\n",
       " 734: 'allowed',\n",
       " 735: 'send',\n",
       " 736: 'absolutely',\n",
       " 737: 'express',\n",
       " 738: 'happening',\n",
       " 739: 'riot',\n",
       " 740: 'population',\n",
       " 741: 'completely',\n",
       " 742: 'learn',\n",
       " 743: 'local',\n",
       " 744: 'antimodi',\n",
       " 745: 'enemy',\n",
       " 746: 'found',\n",
       " 747: 'threat',\n",
       " 748: 'showing',\n",
       " 749: 'victory',\n",
       " 750: 'clearly',\n",
       " 751: 'plz',\n",
       " 752: 'shown',\n",
       " 753: 'type',\n",
       " 754: 'correct',\n",
       " 755: 'photo',\n",
       " 756: 'employment',\n",
       " 757: 'loot',\n",
       " 758: 'role',\n",
       " 759: 'record',\n",
       " 760: 'hear',\n",
       " 761: 'cause',\n",
       " 762: 'finally',\n",
       " 763: 'caste',\n",
       " 764: 'gut',\n",
       " 765: 'water',\n",
       " 766: 'speaking',\n",
       " 767: 'service',\n",
       " 768: 'worker',\n",
       " 769: 'following',\n",
       " 770: 'three',\n",
       " 771: 'standard',\n",
       " 772: 'none',\n",
       " 773: 'position',\n",
       " 774: 'easy',\n",
       " 775: 'yeah',\n",
       " 776: 'increase',\n",
       " 777: 'culture',\n",
       " 778: 'abuse',\n",
       " 779: 'jawan',\n",
       " 780: 'nationalist',\n",
       " 781: 'drama',\n",
       " 782: 'minimum',\n",
       " 783: 'fall',\n",
       " 784: 'kid',\n",
       " 785: 'totally',\n",
       " 786: 'era',\n",
       " 787: 'actor',\n",
       " 788: 'serious',\n",
       " 789: 'rupee',\n",
       " 790: 'choose',\n",
       " 791: 'edit',\n",
       " 792: 'orbit',\n",
       " 793: 'heart',\n",
       " 794: 'control',\n",
       " 795: 'temple',\n",
       " 796: 'kept',\n",
       " 797: 'economist',\n",
       " 798: 'school',\n",
       " 799: 'spread',\n",
       " 800: 'food',\n",
       " 801: 'provide',\n",
       " 802: 'governance',\n",
       " 803: 'mumbai',\n",
       " 804: 'stopped',\n",
       " 805: 'mother',\n",
       " 806: 'despite',\n",
       " 807: 'worth',\n",
       " 808: 'demonetisation',\n",
       " 809: 'slogan',\n",
       " 810: 'building',\n",
       " 811: 'criminal',\n",
       " 812: 'busy',\n",
       " 813: 'kuch',\n",
       " 814: 'evidence',\n",
       " 815: 'build',\n",
       " 816: 'sector',\n",
       " 817: 'raid',\n",
       " 818: 'gain',\n",
       " 819: 'tamil',\n",
       " 820: 'seeing',\n",
       " 821: 'allow',\n",
       " 822: 'loss',\n",
       " 823: 'manmohan',\n",
       " 824: 'rajan',\n",
       " 825: 'bollywood',\n",
       " 826: 'neither',\n",
       " 827: 'attention',\n",
       " 828: 'brain',\n",
       " 829: 'yesterday',\n",
       " 830: 'amethi',\n",
       " 831: 'praise',\n",
       " 832: 'advani',\n",
       " 833: 'simply',\n",
       " 834: 'program',\n",
       " 835: 'progress',\n",
       " 836: 'later',\n",
       " 837: 'kerala',\n",
       " 838: 'event',\n",
       " 839: 'parliament',\n",
       " 840: 'especially',\n",
       " 841: 'similar',\n",
       " 842: 'nationalism',\n",
       " 843: 'gon',\n",
       " 844: 'encyclopedia',\n",
       " 845: 'republic',\n",
       " 846: 'contesting',\n",
       " 847: 'adani',\n",
       " 848: 'follower',\n",
       " 849: 'half',\n",
       " 850: 'watching',\n",
       " 851: 'write',\n",
       " 852: 'btw',\n",
       " 853: 'military',\n",
       " 854: 'mass',\n",
       " 855: 'train',\n",
       " 856: 'add',\n",
       " 857: 'religious',\n",
       " 858: 'health',\n",
       " 859: 'wife',\n",
       " 860: 'fraud',\n",
       " 861: 'men',\n",
       " 862: 'complete',\n",
       " 863: 'unlike',\n",
       " 864: 'challenge',\n",
       " 865: 'built',\n",
       " 866: 'worked',\n",
       " 867: 'jee',\n",
       " 868: 'deserve',\n",
       " 869: 'baar',\n",
       " 870: 'welcome',\n",
       " 871: 'central',\n",
       " 872: 'telling',\n",
       " 873: 'needed',\n",
       " 874: 'toilet',\n",
       " 875: 'hey',\n",
       " 876: 'special',\n",
       " 877: 'overall',\n",
       " 878: 'alone',\n",
       " 879: 'judge',\n",
       " 880: 'killing',\n",
       " 881: 'imagine',\n",
       " 882: 'officer',\n",
       " 883: 'decide',\n",
       " 884: 'permission',\n",
       " 885: 'market',\n",
       " 886: 'decided',\n",
       " 887: 'total',\n",
       " 888: 'related',\n",
       " 889: 'ideology',\n",
       " 890: 'meet',\n",
       " 891: 'response',\n",
       " 892: 'reached',\n",
       " 893: 'nuclear',\n",
       " 894: 'bit',\n",
       " 895: 'eye',\n",
       " 896: 'bar',\n",
       " 897: 'shameless',\n",
       " 898: 'knowledge',\n",
       " 899: 'billion',\n",
       " 900: 'stuff',\n",
       " 901: 'gdp',\n",
       " 902: 'sound',\n",
       " 903: 'age',\n",
       " 904: 'sent',\n",
       " 905: 'coz',\n",
       " 906: 'wah',\n",
       " 907: 'conference',\n",
       " 908: 'justice',\n",
       " 909: 'powerful',\n",
       " 910: 'whose',\n",
       " 911: 'violence',\n",
       " 912: 'cell',\n",
       " 913: 'developed',\n",
       " 914: 'violation',\n",
       " 915: 'din',\n",
       " 916: 'ensure',\n",
       " 917: 'chowkidars',\n",
       " 918: 'value',\n",
       " 919: 'focus',\n",
       " 920: 'tenure',\n",
       " 921: 'increased',\n",
       " 922: 'mm',\n",
       " 923: 'wing',\n",
       " 924: 'highest',\n",
       " 925: 'crime',\n",
       " 926: 'likely',\n",
       " 927: 'rise',\n",
       " 928: 'addressing',\n",
       " 929: 'reach',\n",
       " 930: 'information',\n",
       " 931: 'ruling',\n",
       " 932: 'directly',\n",
       " 933: 'aware',\n",
       " 934: 'launched',\n",
       " 935: 'afraid',\n",
       " 936: 'generation',\n",
       " 937: 'smart',\n",
       " 938: 'che',\n",
       " 939: 'close',\n",
       " 940: 'large',\n",
       " 941: 'student',\n",
       " 942: 'charge',\n",
       " 943: 'cash',\n",
       " 944: 'rural',\n",
       " 945: 'border',\n",
       " 946: 'performance',\n",
       " 947: 'fine',\n",
       " 948: 'centre',\n",
       " 949: 'fun',\n",
       " 950: 'negative',\n",
       " 951: 'seem',\n",
       " 952: 'russia',\n",
       " 953: 'match',\n",
       " 954: 'compare',\n",
       " 955: 'basic',\n",
       " 956: 'expected',\n",
       " 957: 'dead',\n",
       " 958: 'worse',\n",
       " 959: 'trailer',\n",
       " 960: 'armed',\n",
       " 961: 'thousand',\n",
       " 962: 'quality',\n",
       " 963: 'detail',\n",
       " 964: 'railway',\n",
       " 965: 'sell',\n",
       " 966: 'gas',\n",
       " 967: 'bcoz',\n",
       " 968: 'cbi',\n",
       " 969: 'jammu',\n",
       " 970: 'remain',\n",
       " 971: 'massive',\n",
       " 972: 'hindutva',\n",
       " 973: 'constitution',\n",
       " 974: 'difficult',\n",
       " 975: 'rbi',\n",
       " 976: 'jaitley',\n",
       " 977: 'ministry',\n",
       " 978: 'odisha',\n",
       " 979: 'youre',\n",
       " 980: 'night',\n",
       " 981: 'science',\n",
       " 982: 'favour',\n",
       " 983: 'creating',\n",
       " 984: 'involved',\n",
       " 985: 'losing',\n",
       " 986: 'incident',\n",
       " 987: 'notice',\n",
       " 988: 'desperate',\n",
       " 989: 'status',\n",
       " 990: 'zero',\n",
       " 991: 'upcoming',\n",
       " 992: 'demonetization',\n",
       " 993: 'sold',\n",
       " 994: 'research',\n",
       " 995: 'bangalore',\n",
       " 996: 'daily',\n",
       " 997: 'ji',\n",
       " 998: 'east',\n",
       " 999: 'iaf',\n",
       " 1000: 'positive',\n",
       " ...}"
      ]
     },
     "execution_count": 43,
     "metadata": {},
     "output_type": "execute_result"
    }
   ],
   "source": [
    "tok = Tokenizer(char_level=False,split=' ')\n",
    "tok.fit_on_texts(xtrain)\n",
    "tok.index_word"
   ]
  },
  {
   "cell_type": "code",
   "execution_count": 44,
   "metadata": {
    "colab": {
     "base_uri": "https://localhost:8080/"
    },
    "id": "aHQ9ZYJ5nAqI",
    "outputId": "83ca504a-be8a-4766-ed42-64eb45c35a72"
   },
   "outputs": [
    {
     "data": {
      "text/plain": [
       "92508"
      ]
     },
     "execution_count": 44,
     "metadata": {},
     "output_type": "execute_result"
    }
   ],
   "source": [
    "vocab_len = len(tok.index_word)\n",
    "vocab_len"
   ]
  },
  {
   "cell_type": "code",
   "execution_count": 45,
   "metadata": {
    "colab": {
     "base_uri": "https://localhost:8080/"
    },
    "id": "v3HiauQcnluR",
    "outputId": "3c78c771-e220-40fc-d7d7-e27d191ef24b"
   },
   "outputs": [
    {
     "data": {
      "text/plain": [
       "array([[    0,     0,     0, ...,    34,   423,   246],\n",
       "       [    0,     0,     0, ...,     0,     0,   420],\n",
       "       [    0,     0,     0, ...,  6364,   845,    64],\n",
       "       ...,\n",
       "       [    0,     0,     0, ...,    10,   210, 12350],\n",
       "       [    0,     0,     0, ...,     0,     0, 32126],\n",
       "       [    0,     0,     0, ...,     0,     0,  2607]])"
      ]
     },
     "execution_count": 45,
     "metadata": {},
     "output_type": "execute_result"
    }
   ],
   "source": [
    "seqtrain = tok.texts_to_sequences(xtrain)\n",
    "seqmattrain = sequence.pad_sequences(seqtrain,maxlen=int(max_len))\n",
    "seqmattrain"
   ]
  },
  {
   "cell_type": "code",
   "execution_count": 46,
   "metadata": {
    "colab": {
     "base_uri": "https://localhost:8080/"
    },
    "id": "Wpu4JFKDnpFZ",
    "outputId": "1a4d7f85-b31a-47d2-958f-3ce8fd8322c6"
   },
   "outputs": [
    {
     "data": {
      "text/plain": [
       "array([[   0,    0,    0, ..., 3085,  220, 6133],\n",
       "       [   0,    0,    0, ...,   98,  489, 7548],\n",
       "       [1113,  290,  495, ..., 2435, 1169, 7369],\n",
       "       ...,\n",
       "       [   0,    0,    0, ...,  179,  113,  264],\n",
       "       [   0,    0,    0, ...,  151,    6, 4162],\n",
       "       [   0,    0,    0, ..., 3919,  901,  453]])"
      ]
     },
     "execution_count": 46,
     "metadata": {},
     "output_type": "execute_result"
    }
   ],
   "source": [
    "seqtest = tok.texts_to_sequences(xtest)\n",
    "seqmattest = sequence.pad_sequences(seqtest,maxlen=int(max_len))\n",
    "seqmattest"
   ]
  },
  {
   "cell_type": "code",
   "execution_count": 47,
   "metadata": {
    "colab": {
     "base_uri": "https://localhost:8080/"
    },
    "id": "nZ8C6-LfpWxg",
    "outputId": "7b859ace-8984-4947-f091-b6592cd76f79"
   },
   "outputs": [
    {
     "data": {
      "text/plain": [
       "(140082, 26)"
      ]
     },
     "execution_count": 47,
     "metadata": {},
     "output_type": "execute_result"
    }
   ],
   "source": [
    "seqmattrain.shape"
   ]
  },
  {
   "cell_type": "code",
   "execution_count": 48,
   "metadata": {
    "colab": {
     "base_uri": "https://localhost:8080/"
    },
    "id": "avQTyMGnA5H7",
    "outputId": "02766f8b-b83f-4484-8a03-a0d03877b2fe"
   },
   "outputs": [
    {
     "name": "stdout",
     "output_type": "stream",
     "text": [
      "Epoch 1/5\n",
      "2802/2802 [==============================] - 339s 120ms/step - loss: 0.5153 - accuracy: 0.8086\n",
      "Epoch 2/5\n",
      "2802/2802 [==============================] - 327s 117ms/step - loss: 0.2961 - accuracy: 0.9032\n",
      "Epoch 3/5\n",
      "2802/2802 [==============================] - 328s 117ms/step - loss: 0.2167 - accuracy: 0.9279\n",
      "Epoch 4/5\n",
      "2802/2802 [==============================] - 328s 117ms/step - loss: 0.1531 - accuracy: 0.9504\n",
      "Epoch 5/5\n",
      "2802/2802 [==============================] - 327s 117ms/step - loss: 0.1111 - accuracy: 0.9647\n"
     ]
    },
    {
     "data": {
      "text/plain": [
       "<keras.callbacks.History at 0x20a11d83160>"
      ]
     },
     "execution_count": 48,
     "metadata": {},
     "output_type": "execute_result"
    }
   ],
   "source": [
    "rnn = Sequential()\n",
    "\n",
    "rnn.add(Embedding(vocab_len+1,100,input_length=int(max_len), mask_zero=True))\n",
    "rnn.add(SimpleRNN(units=32, activation=\"tanh\"))\n",
    "rnn.add(Dropout(0.2))\n",
    "rnn.add(Dense(units=32, activation=\"relu\"))\n",
    "rnn.add(Dropout(0.2))\n",
    "rnn.add(Dense(units=3, activation=\"softmax\"))\n",
    "\n",
    "rnn.compile(optimizer=\"adam\", loss=\"sparse_categorical_crossentropy\",metrics=[\"accuracy\"])\n",
    "\n",
    "rnn.fit(seqmattrain, ytrain, batch_size=50, epochs=5)"
   ]
  },
  {
   "cell_type": "code",
   "execution_count": 49,
   "metadata": {
    "id": "9_bC5OIN9e2G"
   },
   "outputs": [
    {
     "name": "stdout",
     "output_type": "stream",
     "text": [
      "1877/1877 [==============================] - 4s 2ms/step\n"
     ]
    }
   ],
   "source": [
    "ypred = rnn.predict(seqmattest)\n",
    "ypred = ypred.argmax(axis=1)"
   ]
  },
  {
   "cell_type": "code",
   "execution_count": 50,
   "metadata": {
    "id": "s2wtnytWEAfY"
   },
   "outputs": [
    {
     "name": "stdout",
     "output_type": "stream",
     "text": [
      "              precision    recall  f1-score   support\n",
      "\n",
      "           0       0.76      0.78      0.77     12853\n",
      "           1       0.90      0.89      0.90     20835\n",
      "           2       0.87      0.87      0.87     26348\n",
      "\n",
      "    accuracy                           0.86     60036\n",
      "   macro avg       0.84      0.84      0.84     60036\n",
      "weighted avg       0.86      0.86      0.86     60036\n",
      "\n"
     ]
    }
   ],
   "source": [
    "from sklearn.metrics import classification_report\n",
    "print(classification_report(ypred,ytest))"
   ]
  },
  {
   "cell_type": "code",
   "execution_count": 52,
   "metadata": {
    "id": "Vvo9N5EPEPfQ"
   },
   "outputs": [
    {
     "name": "stdout",
     "output_type": "stream",
     "text": [
      "Epoch 1/5\n",
      "2802/2802 [==============================] - 301s 106ms/step - loss: 0.4296 - accuracy: 0.8515\n",
      "Epoch 2/5\n",
      "2802/2802 [==============================] - 299s 107ms/step - loss: 0.2641 - accuracy: 0.9162\n",
      "Epoch 3/5\n",
      "2802/2802 [==============================] - 297s 106ms/step - loss: 0.1881 - accuracy: 0.9387\n",
      "Epoch 4/5\n",
      "2802/2802 [==============================] - 291s 104ms/step - loss: 0.1348 - accuracy: 0.9552\n",
      "Epoch 5/5\n",
      "2802/2802 [==============================] - 286s 102ms/step - loss: 0.1012 - accuracy: 0.9655\n"
     ]
    },
    {
     "data": {
      "text/plain": [
       "<keras.callbacks.History at 0x20a29056230>"
      ]
     },
     "execution_count": 52,
     "metadata": {},
     "output_type": "execute_result"
    }
   ],
   "source": [
    "rnn = Sequential()\n",
    "\n",
    "rnn.add(Embedding(vocab_len+1,100, input_length=int(max_len), mask_zero=True))\n",
    "\n",
    "rnn.add(LSTM(units=32, activation=\"tanh\"))\n",
    "rnn.add(Dropout(0.2))\n",
    "rnn.add(Dense(units=32, activation=\"relu\"))\n",
    "rnn.add(Dropout(0.2))\n",
    "\n",
    "rnn.add(Dense(units=3, activation=\"softmax\"))\n",
    "\n",
    "rnn.compile(optimizer=\"adam\", loss=\"sparse_categorical_crossentropy\",metrics=['accuracy'])\n",
    "\n",
    "rnn.fit(seqmattrain, ytrain, batch_size=50, epochs=5)"
   ]
  },
  {
   "cell_type": "code",
   "execution_count": 53,
   "metadata": {
    "id": "9E6PMNi4Eaaw"
   },
   "outputs": [
    {
     "name": "stdout",
     "output_type": "stream",
     "text": [
      "1877/1877 [==============================] - 6s 3ms/step\n"
     ]
    }
   ],
   "source": [
    "ypred = rnn.predict(seqmattest)\n",
    "ypred = ypred.argmax(axis=1)"
   ]
  },
  {
   "cell_type": "code",
   "execution_count": 54,
   "metadata": {
    "id": "YpsUj7EFEeHf"
   },
   "outputs": [
    {
     "name": "stdout",
     "output_type": "stream",
     "text": [
      "              precision    recall  f1-score   support\n",
      "\n",
      "           0       0.80      0.80      0.80     13022\n",
      "           1       0.90      0.90      0.90     20324\n",
      "           2       0.89      0.89      0.89     26690\n",
      "\n",
      "    accuracy                           0.87     60036\n",
      "   macro avg       0.86      0.86      0.86     60036\n",
      "weighted avg       0.87      0.87      0.87     60036\n",
      "\n"
     ]
    }
   ],
   "source": [
    "from sklearn.metrics import classification_report\n",
    "print(classification_report(ypred,ytest))"
   ]
  },
  {
   "cell_type": "code",
   "execution_count": null,
   "metadata": {
    "id": "2qCjpJ06JeNL"
   },
   "outputs": [],
   "source": []
  }
 ],
 "metadata": {
  "colab": {
   "provenance": []
  },
  "kernelspec": {
   "display_name": "Python 3 (ipykernel)",
   "language": "python",
   "name": "python3"
  },
  "language_info": {
   "codemirror_mode": {
    "name": "ipython",
    "version": 3
   },
   "file_extension": ".py",
   "mimetype": "text/x-python",
   "name": "python",
   "nbconvert_exporter": "python",
   "pygments_lexer": "ipython3",
   "version": "3.10.9"
  }
 },
 "nbformat": 4,
 "nbformat_minor": 1
}
